{
 "cells": [
  {
   "cell_type": "markdown",
   "metadata": {},
   "source": [
    "# NEURON Tutorial 1\n",
    "## Objectives\n",
    "- Create a passive cell membrane in NEURON.\n",
    "- Create a synaptic stimulus onto the neuron.\n",
    "- Modify parameters of the membrane and stimulus.\n",
    "- Visualize results with matplotlib."
   ]
  },
  {
   "cell_type": "markdown",
   "metadata": {},
   "source": [
    "## Step 1: Import the `neuron` module into Python\n",
    "\n",
    "The primary scripting language of NEURON software is hoc, but a Python interface is also available. To install NEURON software in anaconda environment, simply run `pip install neuron` in your anaconda prompt, and the installation will complete in a few minites.\n",
    "\n",
    "Like other non-Python's *built-in* functions, you need to import neuron module into your Python working environment.\n",
    "\n",
    "```python\n",
    "import neuron\n",
    "print(neuron.__version__)\n",
    "```\n",
    "Here, we can use the code above to check the version of NEURON you installed.\n",
    "\n",
    "There are only a limited number of functions avaiable directly from the neuron module. In practice, we usually want to directly import the submodules we need; i.e. do something like the below instead:"
   ]
  },
  {
   "cell_type": "code",
   "execution_count": 1,
   "metadata": {},
   "outputs": [],
   "source": [
    "from neuron import h"
   ]
  },
  {
   "cell_type": "markdown",
   "metadata": {},
   "source": [
    "When using NEURON, you will always want the h submodule. You may or may not need to import the additional submodules mentioned above.\n",
    "\n",
    "NEURON assueds certain default units (concentration in mM, time in ms, voltage in mV), but units can be specified explicitly by importing unit definitions from neuron.units. Even if you are using the default units, being explicit makes your code more readable by others. For example:"
   ]
  },
  {
   "cell_type": "code",
   "execution_count": 2,
   "metadata": {},
   "outputs": [],
   "source": [
    "from neuron.units import ms, mV "
   ]
  },
  {
   "cell_type": "markdown",
   "metadata": {},
   "source": [
    "If the above gives you an error, then you are using a version of NEURON older than 7.7. Update before proceeding."
   ]
  },
  {
   "cell_type": "markdown",
   "metadata": {},
   "source": [
    "## Step 2: Create a cell\n",
    "\n",
    "A [Section](https://neuron.yale.edu/neuron/static/py_doc/modelspec/programmatic/topology/geometry.html#geometry) is the basic morphological building-block in NEURON. We typically think of a Section as an unbranched cable, but it can also be used to represent a soma. Thus a simple model neuron with only a soma can be created as in:"
   ]
  },
  {
   "cell_type": "code",
   "execution_count": 3,
   "metadata": {},
   "outputs": [],
   "source": [
    "soma = h.Section(name='soma')"
   ]
  },
  {
   "cell_type": "markdown",
   "metadata": {},
   "source": [
    "### Aside 1: NEURON's `h.topology` funcion\n",
    "\n",
    "Use `h.topology` function to check the topological structure of sections that we create in the working space."
   ]
  },
  {
   "cell_type": "code",
   "execution_count": 4,
   "metadata": {},
   "outputs": [
    {
     "name": "stdout",
     "output_type": "stream",
     "text": [
      "\n",
      "|-|       soma(0-1)\n",
      "\n"
     ]
    },
    {
     "data": {
      "text/plain": [
       "1.0"
      ]
     },
     "execution_count": 4,
     "metadata": {},
     "output_type": "execute_result"
    }
   ],
   "source": [
    "h.topology()"
   ]
  },
  {
   "cell_type": "markdown",
   "metadata": {},
   "source": [
    "### Aside 2: The `psection` method\n",
    "\n",
    "Use `Section.psection` function (namely, properties of the section) to check the detailed parameters of the morphology, biophysical mechanism, input information, and etc. The return type is Python built-in dictionary."
   ]
  },
  {
   "cell_type": "code",
   "execution_count": 5,
   "metadata": {},
   "outputs": [
    {
     "data": {
      "text/plain": [
       "{'point_processes': {},\n",
       " 'density_mechs': {},\n",
       " 'ions': {},\n",
       " 'morphology': {'L': 100.0,\n",
       "  'diam': [500.0],\n",
       "  'pts3d': [],\n",
       "  'parent': None,\n",
       "  'trueparent': None},\n",
       " 'nseg': 1,\n",
       " 'Ra': 35.4,\n",
       " 'cm': [1.0],\n",
       " 'regions': set(),\n",
       " 'species': set(),\n",
       " 'name': 'soma',\n",
       " 'hoc_internal_name': '__nrnsec_0x7ffd506a8000',\n",
       " 'cell': None}"
      ]
     },
     "execution_count": 5,
     "metadata": {},
     "output_type": "execute_result"
    }
   ],
   "source": [
    "soma.psection()"
   ]
  },
  {
   "cell_type": "markdown",
   "metadata": {},
   "source": [
    "The results tell us the soma is a cylinder with length 100 microns, diameter 500 microns, axial resistivity 35.4 ohm*cm, and specific membrance capacitance 1 μF/cm2."
   ]
  },
  {
   "cell_type": "code",
   "execution_count": 6,
   "metadata": {},
   "outputs": [
    {
     "data": {
      "text/plain": [
       "100.0"
      ]
     },
     "execution_count": 6,
     "metadata": {},
     "output_type": "execute_result"
    }
   ],
   "source": [
    "soma.psection()['morphology']['L']"
   ]
  },
  {
   "cell_type": "code",
   "execution_count": 7,
   "metadata": {},
   "outputs": [
    {
     "data": {
      "text/plain": [
       "100.0"
      ]
     },
     "execution_count": 7,
     "metadata": {},
     "output_type": "execute_result"
    }
   ],
   "source": [
    "soma.L"
   ]
  },
  {
   "cell_type": "markdown",
   "metadata": {},
   "source": [
    "## Setp 3: Set the cell's morphological properties"
   ]
  },
  {
   "cell_type": "code",
   "execution_count": 8,
   "metadata": {},
   "outputs": [],
   "source": [
    "soma.L = 20\n",
    "soma.diam = 20"
   ]
  },
  {
   "cell_type": "markdown",
   "metadata": {},
   "source": [
    "### Aside 3: Get more help"
   ]
  },
  {
   "cell_type": "code",
   "execution_count": 9,
   "metadata": {},
   "outputs": [
    {
     "name": "stdout",
     "output_type": "stream",
     "text": [
      "Help on built-in function connect:\n",
      "\n",
      "connect(...) method of nrn.Section instance\n",
      "    childSection.connect(parentSection, [parentX], [childEnd]) or\n",
      "    childSection.connect(parentSegment, [childEnd])\n",
      "\n"
     ]
    }
   ],
   "source": [
    "help(soma.connect)"
   ]
  },
  {
   "cell_type": "code",
   "execution_count": 10,
   "metadata": {},
   "outputs": [],
   "source": [
    "soma.connect?"
   ]
  },
  {
   "cell_type": "markdown",
   "metadata": {},
   "source": [
    "## Step 4: Insert ion channels\n",
    "\n",
    "NEURON comes with a few built in biophysical mechanisms taht can be added to a model:\n",
    "\n",
    "| | |\n",
    "|:--|:---|\n",
    "|`pas`|Passive (\"leaky\") channel.|\n",
    "|`extracellular`|For simulating effects of nonzero extracellular potential, as may happen with leaky patch clamps, or detailed propertes of the myelin sheath.|\n",
    "|`hh`|Hodgkin-Huxley sodium, potassium, and leakage channels.|"
   ]
  },
  {
   "cell_type": "code",
   "execution_count": 11,
   "metadata": {},
   "outputs": [
    {
     "data": {
      "text/plain": [
       "soma"
      ]
     },
     "execution_count": 11,
     "metadata": {},
     "output_type": "execute_result"
    }
   ],
   "source": [
    "soma.insert('hh')"
   ]
  },
  {
   "cell_type": "code",
   "execution_count": 12,
   "metadata": {},
   "outputs": [
    {
     "data": {
      "text/plain": [
       "{'point_processes': {},\n",
       " 'density_mechs': {'hh': {'gnabar': [0.12],\n",
       "   'gkbar': [0.036],\n",
       "   'gl': [0.0003],\n",
       "   'el': [-54.3],\n",
       "   'gna': [0.0],\n",
       "   'gk': [0.0],\n",
       "   'il': [0.0],\n",
       "   'm': [0.0],\n",
       "   'h': [0.0],\n",
       "   'n': [0.0]}},\n",
       " 'ions': {'na': {'ena': [50.0],\n",
       "   'nai': [10.0],\n",
       "   'nao': [140.0],\n",
       "   'ina': [0.0],\n",
       "   'dina_dv_': [0.0]},\n",
       "  'k': {'ek': [-77.0],\n",
       "   'ki': [54.4],\n",
       "   'ko': [2.5],\n",
       "   'ik': [0.0],\n",
       "   'dik_dv_': [0.0]}},\n",
       " 'morphology': {'L': 20.0,\n",
       "  'diam': [20.0],\n",
       "  'pts3d': [],\n",
       "  'parent': None,\n",
       "  'trueparent': None},\n",
       " 'nseg': 1,\n",
       " 'Ra': 35.4,\n",
       " 'cm': [1.0],\n",
       " 'regions': set(),\n",
       " 'species': set(),\n",
       " 'name': 'soma',\n",
       " 'hoc_internal_name': '__nrnsec_0x7ffd506a8000',\n",
       " 'cell': None}"
      ]
     },
     "execution_count": 12,
     "metadata": {},
     "output_type": "execute_result"
    }
   ],
   "source": [
    "soma.psection()"
   ]
  },
  {
   "cell_type": "markdown",
   "metadata": {},
   "source": [
    "### Asides 4: Sections and segments\n",
    "Using the Python type function can tell us what a variable is:\n",
    "```python \n",
    "print(\"type(soma) = {}\".format(type(soma)))\n",
    "print(\"type(soma(0.5)) = {}\".format(type(soma(0.5))))\n",
    "```\n",
    "type(soma) = <class 'nrn.Section'><br>\n",
    "type(soma(0.5)) = <class 'nrn.Segment'>"
   ]
  },
  {
   "cell_type": "code",
   "execution_count": 13,
   "metadata": {},
   "outputs": [
    {
     "name": "stdout",
     "output_type": "stream",
     "text": [
      "['__class__', '__delattr__', '__dir__', '__doc__', '__eq__', '__format__', '__ge__', '__getattribute__', '__gt__', '__hash__', '__init__', '__init_subclass__', '__iter__', '__le__', '__lt__', '__module__', '__ne__', '__new__', '__reduce__', '__reduce_ex__', '__repr__', '__setattr__', '__sizeof__', '__str__', '__subclasshook__', 'el', 'gk', 'gkbar', 'gl', 'gna', 'gnabar', 'h', 'il', 'is_ion', 'm', 'n', 'name', 'segment']\n"
     ]
    }
   ],
   "source": [
    "mech = soma(0.25).hh\n",
    "print(dir(mech))"
   ]
  },
  {
   "cell_type": "code",
   "execution_count": 14,
   "metadata": {},
   "outputs": [
    {
     "name": "stdout",
     "output_type": "stream",
     "text": [
      "0.036\n",
      "0.036\n"
     ]
    }
   ],
   "source": [
    "print(mech.gkbar)\n",
    "print(soma(0.5).hh.gkbar)"
   ]
  },
  {
   "cell_type": "markdown",
   "metadata": {},
   "source": [
    "## Step 5: Insert a stimulus\n",
    "- Type 1: Constant current, i.e., current clamp."
   ]
  },
  {
   "cell_type": "code",
   "execution_count": 15,
   "metadata": {},
   "outputs": [],
   "source": [
    "iclamp = h.IClamp(soma(0.5))"
   ]
  },
  {
   "cell_type": "code",
   "execution_count": 16,
   "metadata": {
    "scrolled": true
   },
   "outputs": [
    {
     "name": "stdout",
     "output_type": "stream",
     "text": [
      "['amp', 'baseattr', 'delay', 'dur', 'get_loc', 'get_segment', 'has_loc', 'hname', 'hocobjptr', 'i', 'loc', 'same']\n"
     ]
    }
   ],
   "source": [
    "print([item for item in dir(iclamp) if not item.startswith('__')])"
   ]
  },
  {
   "cell_type": "code",
   "execution_count": 17,
   "metadata": {},
   "outputs": [],
   "source": [
    "iclamp.delay = 2\n",
    "iclamp.dur = 0.1\n",
    "iclamp.amp = 0.9"
   ]
  },
  {
   "cell_type": "code",
   "execution_count": 18,
   "metadata": {},
   "outputs": [
    {
     "data": {
      "text/plain": [
       "{'point_processes': {'IClamp': {IClamp[0]}},\n",
       " 'density_mechs': {'hh': {'gnabar': [0.12],\n",
       "   'gkbar': [0.036],\n",
       "   'gl': [0.0003],\n",
       "   'el': [-54.3],\n",
       "   'gna': [0.0],\n",
       "   'gk': [0.0],\n",
       "   'il': [0.0],\n",
       "   'm': [0.0],\n",
       "   'h': [0.0],\n",
       "   'n': [0.0]}},\n",
       " 'ions': {'na': {'ena': [50.0],\n",
       "   'nai': [10.0],\n",
       "   'nao': [140.0],\n",
       "   'ina': [0.0],\n",
       "   'dina_dv_': [0.0]},\n",
       "  'k': {'ek': [-77.0],\n",
       "   'ki': [54.4],\n",
       "   'ko': [2.5],\n",
       "   'ik': [0.0],\n",
       "   'dik_dv_': [0.0]}},\n",
       " 'morphology': {'L': 20.0,\n",
       "  'diam': [20.0],\n",
       "  'pts3d': [],\n",
       "  'parent': None,\n",
       "  'trueparent': None},\n",
       " 'nseg': 1,\n",
       " 'Ra': 35.4,\n",
       " 'cm': [1.0],\n",
       " 'regions': set(),\n",
       " 'species': set(),\n",
       " 'name': 'soma',\n",
       " 'hoc_internal_name': '__nrnsec_0x7ffd506a8000',\n",
       " 'cell': None}"
      ]
     },
     "execution_count": 18,
     "metadata": {},
     "output_type": "execute_result"
    }
   ],
   "source": [
    "soma.psection()"
   ]
  },
  {
   "cell_type": "markdown",
   "metadata": {},
   "source": [
    "- Type 2: synaptic input\n",
    "\n",
    "A [NetSim](https://neuron.yale.edu/neuron/static/py_doc/modelspec/programmatic/mechanisms/mech.html#NetStim) is a spike generator that can be used as the source in a NetCon, behaving as external input onto the synapse of a target cell."
   ]
  },
  {
   "cell_type": "code",
   "execution_count": 19,
   "metadata": {},
   "outputs": [],
   "source": [
    "stim = h.NetStim() \n",
    "stim.number = 1\n",
    "stim.start = 9"
   ]
  },
  {
   "cell_type": "markdown",
   "metadata": {},
   "source": [
    "To generate random (Poisson-like) synaptic input, we can set `NetStim().noise` (fraction of randomness) and `NetStim().interval` (1 / mean firing rate).\n",
    "\n",
    "```python\n",
    "stim.noise = 1\n",
    "stim.interval = 10*ms\n",
    "```"
   ]
  },
  {
   "cell_type": "markdown",
   "metadata": {},
   "source": [
    "The code below makes a stimulator and attaches it to a synapse object [ExpSyn](https://neuron.yale.edu/neuron/static/py_doc/modelspec/programmatic/mechanisms/mech.html#ExpSyn) that behaves much like an AMPA synapse – it conducts current as a decaying exponential function."
   ]
  },
  {
   "cell_type": "code",
   "execution_count": 20,
   "metadata": {},
   "outputs": [
    {
     "name": "stdout",
     "output_type": "stream",
     "text": [
      "Reversal potential = 0.0 mV\n"
     ]
    }
   ],
   "source": [
    "syn_ = h.ExpSyn(soma(0.5))\n",
    "ncstim= h.NetCon(stim, syn_)\n",
    "ncstim.delay = 1*ms\n",
    "ncstim.weight[0]=0.04\n",
    "syn_.tau=2*ms\n",
    "print('Reversal potential = {} mV'.format(syn_.e))"
   ]
  },
  {
   "cell_type": "markdown",
   "metadata": {},
   "source": [
    "## Step 6: Set up recording variables"
   ]
  },
  {
   "cell_type": "code",
   "execution_count": 21,
   "metadata": {},
   "outputs": [],
   "source": [
    "v = h.Vector().record(soma(0.5)._ref_v)\n",
    "t = h.Vector().record(h._ref_t)"
   ]
  },
  {
   "cell_type": "markdown",
   "metadata": {},
   "source": [
    "## Step 7: Run the simulation"
   ]
  },
  {
   "cell_type": "code",
   "execution_count": 22,
   "metadata": {},
   "outputs": [
    {
     "data": {
      "text/plain": [
       "1.0"
      ]
     },
     "execution_count": 22,
     "metadata": {},
     "output_type": "execute_result"
    }
   ],
   "source": [
    "h.load_file('stdrun.hoc')"
   ]
  },
  {
   "cell_type": "code",
   "execution_count": 23,
   "metadata": {},
   "outputs": [
    {
     "data": {
      "text/plain": [
       "1.0"
      ]
     },
     "execution_count": 23,
     "metadata": {},
     "output_type": "execute_result"
    }
   ],
   "source": [
    "h.finitialize(-65*mV)"
   ]
  },
  {
   "cell_type": "code",
   "execution_count": 24,
   "metadata": {},
   "outputs": [
    {
     "data": {
      "text/plain": [
       "0.0"
      ]
     },
     "execution_count": 24,
     "metadata": {},
     "output_type": "execute_result"
    }
   ],
   "source": [
    "h.continuerun(20*ms)"
   ]
  },
  {
   "cell_type": "markdown",
   "metadata": {},
   "source": [
    "## Step 8: Plot the results"
   ]
  },
  {
   "cell_type": "code",
   "execution_count": 25,
   "metadata": {},
   "outputs": [],
   "source": [
    "import matplotlib.pyplot as plt"
   ]
  },
  {
   "cell_type": "code",
   "execution_count": 26,
   "metadata": {},
   "outputs": [
    {
     "data": {
      "text/plain": [
       "Text(0, 0.5, 'v(mV)')"
      ]
     },
     "execution_count": 26,
     "metadata": {},
     "output_type": "execute_result"
    },
    {
     "data": {
      "image/png": "[encoded data removed]",
      "text/plain": [
       "<Figure size 432x288 with 1 Axes>"
      ]
     },
     "metadata": {
      "needs_background": "light"
     },
     "output_type": "display_data"
    }
   ],
   "source": [
    "plt.figure()\n",
    "plt.plot(t,v)\n",
    "plt.xlabel('t(ms)')\n",
    "plt.ylabel('v(mV)')\n"
   ]
  },
  {
   "cell_type": "markdown",
   "metadata": {},
   "source": [
    "## Step 8: Saving and loading results"
   ]
  },
  {
   "cell_type": "markdown",
   "metadata": {},
   "source": [
    "### Text-based format"
   ]
  },
  {
   "cell_type": "markdown",
   "metadata": {},
   "source": [
    "#### CSV"
   ]
  },
  {
   "cell_type": "code",
   "execution_count": 27,
   "metadata": {},
   "outputs": [],
   "source": [
    "import csv"
   ]
  },
  {
   "cell_type": "markdown",
   "metadata": {},
   "source": [
    "**Writing**"
   ]
  },
  {
   "cell_type": "code",
   "execution_count": 28,
   "metadata": {},
   "outputs": [],
   "source": [
    "with open('data.csv', 'w') as f:\n",
    "  csv.writer(f).writerows(zip(t,v))"
   ]
  },
  {
   "cell_type": "markdown",
   "metadata": {},
   "source": [
    "**Reading**"
   ]
  },
  {
   "cell_type": "code",
   "execution_count": 29,
   "metadata": {},
   "outputs": [],
   "source": [
    "with open('data.csv', 'r') as f:\n",
    "  reader = csv.reader(f)\n",
    "  tnew, vnew = zip(*[[float(val) for val in row] for row in reader if row])"
   ]
  },
  {
   "cell_type": "code",
   "execution_count": 30,
   "metadata": {},
   "outputs": [
    {
     "data": {
      "text/plain": [
       "Text(0, 0.5, 'v(mV)')"
      ]
     },
     "execution_count": 30,
     "metadata": {},
     "output_type": "execute_result"
    },
    {
     "data": {
      "image/png": "[encoded data removed]",
      "text/plain": [
       "<Figure size 432x288 with 1 Axes>"
      ]
     },
     "metadata": {
      "needs_background": "light"
     },
     "output_type": "display_data"
    }
   ],
   "source": [
    "plt.figure()\n",
    "plt.plot(tnew, vnew)\n",
    "plt.xlabel('t(ms)')\n",
    "plt.ylabel('v(mV)')"
   ]
  },
  {
   "cell_type": "markdown",
   "metadata": {},
   "source": [
    "#### JSON"
   ]
  },
  {
   "cell_type": "code",
   "execution_count": 31,
   "metadata": {},
   "outputs": [],
   "source": [
    "import json"
   ]
  },
  {
   "cell_type": "markdown",
   "metadata": {},
   "source": [
    "**Writing**"
   ]
  },
  {
   "cell_type": "code",
   "execution_count": 32,
   "metadata": {},
   "outputs": [],
   "source": [
    "with open('data.json', 'w') as f:\n",
    "  json.dump({'t': list(t), 'v': list(v)}, f, indent=4)"
   ]
  },
  {
   "cell_type": "markdown",
   "metadata": {},
   "source": [
    "**Reading**"
   ]
  },
  {
   "cell_type": "code",
   "execution_count": 33,
   "metadata": {},
   "outputs": [],
   "source": [
    "with open('data.json') as f:\n",
    "    data = json.load(f)\n",
    "tnew = data['t']\n",
    "vnew = data['v']"
   ]
  },
  {
   "cell_type": "code",
   "execution_count": 34,
   "metadata": {},
   "outputs": [
    {
     "data": {
      "text/plain": [
       "Text(0, 0.5, 'v (mV)')"
      ]
     },
     "execution_count": 34,
     "metadata": {},
     "output_type": "execute_result"
    },
    {
     "data": {
      "image/png": "[encoded data removed]",
      "text/plain": [
       "<Figure size 432x288 with 1 Axes>"
      ]
     },
     "metadata": {
      "needs_background": "light"
     },
     "output_type": "display_data"
    }
   ],
   "source": [
    "plt.figure()\n",
    "plt.plot(tnew, vnew)\n",
    "plt.xlabel('t (ms)')\n",
    "plt.ylabel('v (mV)')"
   ]
  },
  {
   "cell_type": "markdown",
   "metadata": {},
   "source": [
    "### Binary format"
   ]
  },
  {
   "cell_type": "markdown",
   "metadata": {},
   "source": [
    "#### Numpy binary format"
   ]
  },
  {
   "cell_type": "code",
   "execution_count": 35,
   "metadata": {},
   "outputs": [],
   "source": [
    "import numpy as np"
   ]
  },
  {
   "cell_type": "markdown",
   "metadata": {},
   "source": [
    "**Writing**"
   ]
  },
  {
   "cell_type": "code",
   "execution_count": 36,
   "metadata": {},
   "outputs": [],
   "source": [
    "np.savez('data.npz', **{'t':np.array(t), 'v':np.array(v)})"
   ]
  },
  {
   "cell_type": "markdown",
   "metadata": {},
   "source": [
    "**Reading**"
   ]
  },
  {
   "cell_type": "code",
   "execution_count": 37,
   "metadata": {},
   "outputs": [],
   "source": [
    "data = np.load('data.npz')\n",
    "tnewnpz = data['t']\n",
    "vnewnpz = data['v']"
   ]
  },
  {
   "cell_type": "code",
   "execution_count": 38,
   "metadata": {
    "scrolled": true
   },
   "outputs": [
    {
     "data": {
      "text/plain": [
       "Text(0, 0.5, 'v (mV)')"
      ]
     },
     "execution_count": 38,
     "metadata": {},
     "output_type": "execute_result"
    },
    {
     "data": {
      "image/png": "[encoded data removed]",
      "text/plain": [
       "<Figure size 432x288 with 1 Axes>"
      ]
     },
     "metadata": {
      "needs_background": "light"
     },
     "output_type": "display_data"
    }
   ],
   "source": [
    "plt.figure()\n",
    "plt.plot(tnewnpz, vnewnpz)\n",
    "plt.xlabel('t (ms)')\n",
    "plt.ylabel('v (mV)')"
   ]
  },
  {
   "cell_type": "markdown",
   "metadata": {},
   "source": [
    "#### Pickles"
   ]
  },
  {
   "cell_type": "code",
   "execution_count": 39,
   "metadata": {},
   "outputs": [],
   "source": [
    "import pickle"
   ]
  },
  {
   "cell_type": "markdown",
   "metadata": {},
   "source": [
    "**Writing**"
   ]
  },
  {
   "cell_type": "code",
   "execution_count": 40,
   "metadata": {},
   "outputs": [],
   "source": [
    "with open('data.p', 'wb') as f:\n",
    "  pickle.dump({'t':t, 'v':v}, f)"
   ]
  },
  {
   "cell_type": "markdown",
   "metadata": {},
   "source": [
    "**Reading**"
   ]
  },
  {
   "cell_type": "code",
   "execution_count": 41,
   "metadata": {},
   "outputs": [],
   "source": [
    "with open('data.p', 'rb') as f:\n",
    "  data = pickle.load(f)\n",
    "tnewp = data['t']\n",
    "vnewp = data['v']"
   ]
  },
  {
   "cell_type": "code",
   "execution_count": 42,
   "metadata": {},
   "outputs": [
    {
     "data": {
      "text/plain": [
       "hoc.HocObject"
      ]
     },
     "execution_count": 42,
     "metadata": {},
     "output_type": "execute_result"
    }
   ],
   "source": [
    "type(tnewp)"
   ]
  },
  {
   "cell_type": "code",
   "execution_count": 43,
   "metadata": {},
   "outputs": [
    {
     "data": {
      "text/plain": [
       "'Vector[2]'"
      ]
     },
     "execution_count": 43,
     "metadata": {},
     "output_type": "execute_result"
    }
   ],
   "source": [
    "tnewp.hname()"
   ]
  },
  {
   "cell_type": "code",
   "execution_count": 44,
   "metadata": {},
   "outputs": [
    {
     "data": {
      "text/plain": [
       "list"
      ]
     },
     "execution_count": 44,
     "metadata": {},
     "output_type": "execute_result"
    }
   ],
   "source": [
    "type(tnew)"
   ]
  },
  {
   "cell_type": "code",
   "execution_count": 45,
   "metadata": {
    "scrolled": true
   },
   "outputs": [
    {
     "data": {
      "text/plain": [
       "Text(0, 0.5, 'v (mV)')"
      ]
     },
     "execution_count": 45,
     "metadata": {},
     "output_type": "execute_result"
    },
    {
     "data": {
      "image/png": "[encoded data removed]",
      "text/plain": [
       "<Figure size 432x288 with 1 Axes>"
      ]
     },
     "metadata": {
      "needs_background": "light"
     },
     "output_type": "display_data"
    }
   ],
   "source": [
    "plt.figure()\n",
    "plt.plot(tnew, vnew)\n",
    "plt.xlabel('t (ms)')\n",
    "plt.ylabel('v (mV)')"
   ]
  }
 ],
 "metadata": {
  "kernelspec": {
   "display_name": "Python 3(bmtk)",
   "language": "python",
   "name": "bmtk"
  },
  "language_info": {
   "codemirror_mode": {
    "name": "ipython",
    "version": 3
   },
   "file_extension": ".py",
   "mimetype": "text/x-python",
   "name": "python",
   "nbconvert_exporter": "python",
   "pygments_lexer": "ipython3",
   "version": "3.7.8"
  }
 },
 "nbformat": 4,
 "nbformat_minor": 4
}
