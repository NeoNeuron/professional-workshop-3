{
 "cells": [
  {
   "cell_type": "markdown",
   "source": [
    "<a href=\"https://colab.research.google.com/github/NeuromatchAcademy/course-content/blob/master/tutorials/W3D1_RealNeurons/W3D1_Tutorial1.ipynb\" target=\"_parent\"><img src=\"https://colab.research.google.com/assets/colab-badge.svg\" alt=\"Open In Colab\"/></a>"
   ],
   "metadata": {
    "colab_type": "text",
    "id": "view-in-github"
   }
  },
  {
   "cell_type": "markdown",
   "source": [
    "# Single Neuron Models: The Leaky Integrate-and-Fire (LIF) Neuron Model\n",
    "__Content creators:__ Qinglong Gu, Songtin Li, John Murray, Richard Naud, Arvind Kumar\n",
    "\n",
    "__Content reviewers:__ Kai Chen "
   ],
   "metadata": {
    "colab_type": "text"
   }
  },
  {
   "cell_type": "markdown",
   "source": [
    "---\n",
    "# Tutorial Objectives\n",
    "This is your first tutorial implementing realistic neuron models. In this tutorial, we will build up a leaky integrate-and-fire (LIF) neuron model and study its dynamics in response to various types of inputs. In particular, we are going to write a few lines of code to:  \n",
    "\n",
    "- simulate the LIF neuron model\n",
    "\n",
    "- drive the LIF neuron with external inputs, such as direct currents, Gaussian white noise, and Poisson spike trains, etc.\n",
    "\n",
    "- study how different inputs affect the LIF neuron's output (firing rate and spike time irregularity)\n",
    "\n",
    "Here, we will especially emphasize identifying conditions (input statistics) under which a neuron can spike at low firing rates and in an irregular manner. The reason for focusing on this is that in most cases, neocortical neurons spike in an irregular manner."
   ],
   "metadata": {
    "colab_type": "text"
   }
  },
  {
   "cell_type": "markdown",
   "source": [
    "---\n",
    "# Setup"
   ],
   "metadata": {
    "colab_type": "text"
   }
  },
  {
   "cell_type": "code",
   "execution_count": 1,
   "source": [
    "# Imports\n",
    "import numpy as np\n",
    "import matplotlib.pyplot as plt"
   ],
   "outputs": [
    {
     "output_type": "stream",
     "name": "stderr",
     "text": [
      "In /Users/kchen/.matplotlib/stylelib/dark.mplstyle: \n",
      "The animation.avconv_args rcparam was deprecated in Matplotlib 3.3 and will be removed two minor releases later.\n",
      "In /Users/kchen/.matplotlib/stylelib/dark.mplstyle: \n",
      "The animation.avconv_path rcparam was deprecated in Matplotlib 3.3 and will be removed two minor releases later.\n",
      "In /Users/kchen/.matplotlib/stylelib/dark.mplstyle: \n",
      "The animation.html_args rcparam was deprecated in Matplotlib 3.3 and will be removed two minor releases later.\n",
      "In /Users/kchen/.matplotlib/stylelib/dark.mplstyle: \n",
      "The keymap.all_axes rcparam was deprecated in Matplotlib 3.3 and will be removed two minor releases later.\n",
      "In /Users/kchen/.matplotlib/stylelib/dark.mplstyle: \n",
      "The mathtext.fallback_to_cm rcparam was deprecated in Matplotlib 3.3 and will be removed two minor releases later.\n",
      "In /Users/kchen/.matplotlib/stylelib/dark.mplstyle: Support for setting the 'mathtext.fallback_to_cm' rcParam is deprecated since 3.3 and will be removed two minor releases later; use 'mathtext.fallback : 'cm' instead.\n",
      "In /Users/kchen/.matplotlib/stylelib/dark.mplstyle: \n",
      "The validate_bool_maybe_none function was deprecated in Matplotlib 3.3 and will be removed two minor releases later.\n",
      "In /Users/kchen/.matplotlib/stylelib/dark.mplstyle: \n",
      "The mpl_toolkits.legacy_colorbar rcparam was deprecated in Matplotlib 3.4 and will be removed two minor releases later. Please update your matplotlibrc.\n",
      "In /Users/kchen/.matplotlib/stylelib/dark.mplstyle: \n",
      "The savefig.jpeg_quality rcparam was deprecated in Matplotlib 3.3 and will be removed two minor releases later.\n",
      "In /Users/kchen/.matplotlib/stylelib/dark.mplstyle: \n",
      "The text.latex.preview rcparam was deprecated in Matplotlib 3.3 and will be removed two minor releases later.\n"
     ]
    }
   ],
   "metadata": {
    "cellView": "both",
    "colab": {},
    "colab_type": "code",
    "execution": {
     "iopub.execute_input": "2020-10-26T05:21:35.881294Z",
     "iopub.status.busy": "2020-10-26T05:21:35.880415Z",
     "iopub.status.idle": "2020-10-26T05:21:36.165813Z",
     "shell.execute_reply": "2020-10-26T05:21:36.166250Z"
    }
   }
  },
  {
   "cell_type": "code",
   "execution_count": 2,
   "source": [
    "# @title Figure Settings\n",
    "import ipywidgets as widgets  # interactive display\n",
    "%config InlineBackend.figure_format = 'retina'\n",
    "# use NMA plot style\n",
    "plt.style.use(\"https://raw.githubusercontent.com/NeoNeuron/professional-workshop-3/master/nma.mplstyle\")\n",
    "my_layout = widgets.Layout()"
   ],
   "outputs": [],
   "metadata": {
    "cellView": "form",
    "colab": {},
    "colab_type": "code",
    "execution": {
     "iopub.execute_input": "2020-10-26T05:21:36.170785Z",
     "iopub.status.busy": "2020-10-26T05:21:36.170201Z",
     "iopub.status.idle": "2020-10-26T05:21:36.926526Z",
     "shell.execute_reply": "2020-10-26T05:21:36.927020Z"
    }
   }
  },
  {
   "cell_type": "code",
   "execution_count": 3,
   "source": [
    "# @title Helper functions\n",
    "\n",
    "\n",
    "def plot_volt_trace(pars, v, sp):\n",
    "  \"\"\"\n",
    "  Plot trajetory of membrane potential for a single neuron\n",
    "\n",
    "  Expects:\n",
    "  pars   : parameter dictionary\n",
    "  v      : volt trajetory\n",
    "  sp     : spike train\n",
    "\n",
    "  Returns:\n",
    "  figure of the membrane potential trajetory for a single neuron\n",
    "  \"\"\"\n",
    "\n",
    "  V_th = pars['V_th']\n",
    "  dt, range_t = pars['dt'], pars['range_t']\n",
    "  if sp.size:\n",
    "    sp_num = (sp / dt).astype(int) - 1\n",
    "    v[sp_num] += 20  # draw nicer spikes\n",
    "\n",
    "  plt.plot(pars['range_t'], v, 'b')\n",
    "  plt.axhline(V_th, 0, 1, color='k', ls='--')\n",
    "  plt.xlabel('Time (ms)')\n",
    "  plt.ylabel('V (mV)')\n",
    "  plt.legend(['Membrane\\npotential', r'Threshold V$_{\\mathrm{th}}$'],\n",
    "             loc=[1.05, 0.75])\n",
    "  plt.ylim([-80, -40])\n",
    "\n",
    "\n",
    "def plot_GWN(pars, I_GWN):\n",
    "  \"\"\"\n",
    "  Args:\n",
    "    pars  : parameter dictionary\n",
    "    I_GWN : Gaussian white noise input\n",
    "\n",
    "  Returns:\n",
    "    figure of the gaussian white noise input\n",
    "  \"\"\"\n",
    "\n",
    "  plt.figure(figsize=(12, 4))\n",
    "  plt.subplot(121)\n",
    "  plt.plot(pars['range_t'][::3], I_GWN[::3], 'b')\n",
    "  plt.xlabel('Time (ms)')\n",
    "  plt.ylabel(r'$I_{GWN}$ (pA)')\n",
    "  plt.subplot(122)\n",
    "  plot_volt_trace(pars, v, sp)\n",
    "  plt.tight_layout()\n",
    "\n",
    "\n",
    "def my_hists(isi1, isi2, cv1, cv2, sigma1, sigma2):\n",
    "  \"\"\"\n",
    "  Args:\n",
    "    isi1 : vector with inter-spike intervals\n",
    "    isi2 : vector with inter-spike intervals\n",
    "    cv1  : coefficient of variation for isi1\n",
    "    cv2  : coefficient of variation for isi2\n",
    "\n",
    "  Returns:\n",
    "    figure with two histograms, isi1, isi2\n",
    "\n",
    "  \"\"\"\n",
    "  plt.figure(figsize=(11, 4))\n",
    "  my_bins = np.linspace(10, 30, 20)\n",
    "  plt.subplot(121)\n",
    "  plt.hist(isi1, bins=my_bins, color='b', alpha=0.5)\n",
    "  plt.xlabel('ISI (ms)')\n",
    "  plt.ylabel('count')\n",
    "  plt.title(r'$\\sigma_{GWN}=$%.1f, CV$_{\\mathrm{isi}}$=%.3f' % (sigma1, cv1))\n",
    "\n",
    "  plt.subplot(122)\n",
    "  plt.hist(isi2, bins=my_bins, color='b', alpha=0.5)\n",
    "  plt.xlabel('ISI (ms)')\n",
    "  plt.ylabel('count')\n",
    "  plt.title(r'$\\sigma_{GWN}=$%.1f, CV$_{\\mathrm{isi}}$=%.3f' % (sigma2, cv2))\n",
    "  plt.tight_layout()\n",
    "  plt.show()\n",
    "\n",
    "\n",
    "# the function plot the raster of the Poisson spike train\n",
    "def my_raster_Poisson(range_t, spike_train, n):\n",
    "  \"\"\"\n",
    "  Generates poisson trains\n",
    "\n",
    "  Args:\n",
    "    range_t     : time sequence\n",
    "    spike_train : binary spike trains, with shape (N, Lt)\n",
    "    n           : number of Poisson trains plot\n",
    "\n",
    "  Returns:\n",
    "    Raster plot of the spike train\n",
    "  \"\"\"\n",
    "\n",
    "  # find the number of all the spike trains\n",
    "  N = spike_train.shape[0]\n",
    "\n",
    "  # n should smaller than N:\n",
    "  if n > N:\n",
    "    print('The number n exceeds the size of spike trains')\n",
    "    print('The number n is set to be the size of spike trains')\n",
    "    n = N\n",
    "\n",
    "  # plot rater\n",
    "  i = 0\n",
    "  while i < n:\n",
    "    if spike_train[i, :].sum() > 0.:\n",
    "      t_sp = range_t[spike_train[i, :] > 0.5]  # spike times\n",
    "      plt.plot(t_sp, i * np.ones(len(t_sp)), 'k|', ms=10, markeredgewidth=2)\n",
    "    i += 1\n",
    "  plt.xlim([range_t[0], range_t[-1]])\n",
    "  plt.ylim([-0.5, n + 0.5])\n",
    "  plt.xlabel('Time (ms)', fontsize=12)\n",
    "  plt.ylabel('Neuron ID', fontsize=12)"
   ],
   "outputs": [],
   "metadata": {
    "cellView": "form",
    "colab": {},
    "colab_type": "code",
    "execution": {
     "iopub.execute_input": "2020-10-26T05:21:36.943918Z",
     "iopub.status.busy": "2020-10-26T05:21:36.943243Z",
     "iopub.status.idle": "2020-10-26T05:21:36.945173Z",
     "shell.execute_reply": "2020-10-26T05:21:36.945607Z"
    }
   }
  },
  {
   "cell_type": "markdown",
   "source": [
    "---\n",
    "# Section 1: The Leaky Integrate-and-Fire (LIF) model"
   ],
   "metadata": {
    "colab_type": "text"
   }
  },
  {
   "cell_type": "markdown",
   "source": [
    "## Implementation of an LIF neuron model\n",
    "\n",
    "Now, it's your turn to implement one of the simplest mathematical model of a neuron: the leaky integrate-and-fire (LIF) model. The basic idea of LIF neuron was proposed in 1907 by Louis Édouard Lapicque, long before we understood the electrophysiology of a neuron (see a translation of [Lapicque's paper](https://pubmed.ncbi.nlm.nih.gov/17968583/) ). More details of the model can be found in the book [**Theoretical neuroscience**](http://www.gatsby.ucl.ac.uk/~dayan/book/) by Peter Dayan and Laurence F. Abbott.\n",
    "\n",
    "The subthreshold membrane potential dynamics of a LIF neuron is described by\n",
    "\n",
    "\\begin{eqnarray}\n",
    "C_m\\frac{dV}{dt} = -g_L(V-E_L) + I,\\quad (1)\n",
    "\\end{eqnarray}\n",
    "\n",
    "where $C_m$ is the membrane capacitance, $V$ is the membrane potential, $g_L$ is the leak conductance ($g_L = 1/R$, the inverse of the leak resistance $R$ mentioned in previous tutorials), $E_L$ is the resting potential, and $I$ is the external input current. \n",
    "\n",
    "Dividing both sides of the above equation by $g_L$ gives\n",
    "\n",
    "\\begin{align}\n",
    "\\tau_m\\frac{dV}{dt} = -(V-E_L) + \\frac{I}{g_L}\\,,\\quad (2)\n",
    "\\end{align}\n",
    "\n",
    "where the $\\tau_m$ is membrane time constant and is defined as $\\tau_m=C_m/g_L$. \n",
    "\n",
    "You might wonder why dividing capacitance by conductance gives units of time! Find out yourself why this is true.\n",
    "\n",
    "Below, we will use Eqn.(2) to simulate LIF neuron dynamics. \n",
    "\n",
    "If $I$ is sufficiently strong such that $V$ reaches a certain threshold value $V_{\\rm th}$, $V$ is reset to a reset potential $V_{\\rm reset}< V_{\\rm th}$, and voltage is clamped to $V_{\\rm reset}$ for $\\tau_{\\rm ref}$ ms, mimicking the refractoriness of the neuron during an action potential:\n",
    "\n",
    "\\begin{eqnarray}\n",
    "\\mathrm{if}\\quad V(t_{\\text{sp}})\\geq V_{\\rm th}&:& V(t)=V_{\\rm reset} \\text{  for } t\\in(t_{\\text{sp}}, t_{\\text{sp}} + \\tau_{\\text{ref}}]\n",
    "\\end{eqnarray}\n",
    "where $t_{\\rm sp}$ is the spike time when $V(t)$ just exceeded $V_{\\rm th}$.\n",
    "\n",
    "(__Note__: in the lecture slides, $\\theta$ corresponds to the threshold voltage $V_{th}$, and $\\Delta$ corresponds to the refractory time $\\tau_{\\rm ref}$.)\n",
    "\n",
    "Thus, the LIF model captures the facts that a neuron:\n",
    "- performs spatial and temporal integration of synaptic inputs \n",
    "- generates a spike when the voltage reaches a certain threshold\n",
    "- goes refractory during the action potential\n",
    "- has a leaky membrane \n",
    "\n",
    "The LIF model assumes that the spatial and temporal integration of inputs is linear. Also, membrane potential dynamics close to the spike threshold are much slower in LIF neurons than in real neurons. \n"
   ],
   "metadata": {
    "colab_type": "text"
   }
  },
  {
   "cell_type": "markdown",
   "source": [
    "## Coding Exercise 1: Python code to simulate the LIF neuron\n",
    "\n",
    "We now write Python code to calculate Eqn. (2) and simulate the LIF neuron dynamics. We will use the Euler method, which you saw in the linear systems case last week,  to numerically integrate Eq 2.\n",
    "\n",
    "The cell below initializes a dictionary that stores parameters of the LIF neuron model and the simulation scheme. You can use `pars=default_pars(T=simulation_time, dt=time_step)` to get the parameters (you can try to print the dictionary `pars`). Note that, `simulation_time` and `time_step` have the unit `ms`. In addition, you can add the value to a new parameter by `pars['New_param'] = value`."
   ],
   "metadata": {
    "colab_type": "text"
   }
  },
  {
   "cell_type": "code",
   "execution_count": 4,
   "source": [
    "# @title\n",
    "\n",
    "# @markdown Execute this code to initialize the default parameters\n",
    "\n",
    "\n",
    "def default_pars(**kwargs):\n",
    "  pars = {}\n",
    "\n",
    "  # typical neuron parameters#\n",
    "  pars['V_th'] = -55.     # spike threshold [mV]\n",
    "  pars['V_reset'] = -75.  # reset potential [mV]\n",
    "  pars['tau_m'] = 10.     # membrane time constant [ms]\n",
    "  pars['g_L'] = 10.       # leak conductance [nS]\n",
    "  pars['V_init'] = -75.   # initial potential [mV]\n",
    "  pars['E_L'] = -75.      # leak reversal potential [mV]\n",
    "  pars['tref'] = 2.       # refractory time (ms)\n",
    "\n",
    "  # simulation parameters #\n",
    "  pars['T'] = 400.  # Total duration of simulation [ms]\n",
    "  pars['dt'] = .1   # Simulation time step [ms]\n",
    "\n",
    "  # external parameters if any #\n",
    "  for k in kwargs:\n",
    "    pars[k] = kwargs[k]\n",
    "\n",
    "  pars['range_t'] = np.arange(0, pars['T'], pars['dt'])  # Vector of discretized time points [ms]\n",
    "\n",
    "  return pars\n",
    "\n",
    "\n",
    "pars = default_pars()"
   ],
   "outputs": [],
   "metadata": {
    "cellView": "form",
    "colab": {},
    "colab_type": "code",
    "execution": {
     "iopub.execute_input": "2020-10-26T05:21:36.951704Z",
     "iopub.status.busy": "2020-10-26T05:21:36.951085Z",
     "iopub.status.idle": "2020-10-26T05:21:36.952815Z",
     "shell.execute_reply": "2020-10-26T05:21:36.953247Z"
    }
   }
  },
  {
   "cell_type": "markdown",
   "source": [
    "The cell below defines the function to simulate the LIF neuron when receiving external current inputs. You can use `v, sp = run_LIF(pars, Iinj)` to get the membrane potential (`v`) and spike train (`sp`) given the dictionary `pars` and input current `Iinj`."
   ],
   "metadata": {
    "colab_type": "text"
   }
  },
  {
   "cell_type": "code",
   "execution_count": 5,
   "source": [
    "def run_LIF(pars, Iinj, stop=False):\n",
    "  \"\"\"\n",
    "  Simulate the LIF dynamics with external input current\n",
    "\n",
    "  Args:\n",
    "    pars       : parameter dictionary\n",
    "    Iinj       : input current [pA]. The injected current here can be a value\n",
    "                 or an array\n",
    "    stop       : boolean. If True, use a current pulse\n",
    "\n",
    "  Returns:\n",
    "    rec_v      : membrane potential\n",
    "    rec_sp     : spike times\n",
    "  \"\"\"\n",
    "\n",
    "  # Set parameters\n",
    "  V_th, V_reset = pars['V_th'], pars['V_reset']\n",
    "  tau_m, g_L = pars['tau_m'], pars['g_L']\n",
    "  V_init, E_L = pars['V_init'], pars['E_L']\n",
    "  dt, range_t = pars['dt'], pars['range_t']\n",
    "  Lt = range_t.size\n",
    "  tref = pars['tref']\n",
    "\n",
    "  # Initialize voltage and current\n",
    "  v = np.zeros(Lt)\n",
    "  v[0] = V_init\n",
    "  Iinj = Iinj * np.ones(Lt)\n",
    "  if stop:  # set end of current to 0 if current pulse\n",
    "    Iinj[:int(len(Iinj) / 2) - 1000] = 0\n",
    "    Iinj[int(len(Iinj) / 2) + 1000:] = 0\n",
    "  tr = 0.  # the count for refractory duration\n",
    "\n",
    "  # Simulate the LIF dynamics\n",
    "  rec_spikes = []  # record spike times\n",
    "  for it in range(Lt - 1):\n",
    "    if tr > 0:  # check for refractoriness\n",
    "      v[it] = V_reset\n",
    "      tr = tr - 1\n",
    "    elif v[it] >= V_th:  # reset voltage and record spike event\n",
    "      rec_spikes.append(it)\n",
    "      v[it] = V_reset\n",
    "      tr = tref / dt\n",
    "\n",
    "    ########################################################################\n",
    "    ## TODO for students: compute the membrane potential v, spike train sp #\n",
    "    # Fill out function and remove\n",
    "    raise NotImplementedError('Student Exercise: calculate the dv/dt and the update step!')\n",
    "    ########################################################################\n",
    "    # calculate the increment of the membrane potential\n",
    "    dv = ...\n",
    "\n",
    "    # update the membrane potential\n",
    "    v[it + 1] = ...\n",
    "\n",
    "  rec_spikes = np.array(rec_spikes) * dt\n",
    "\n",
    "  return v, rec_spikes\n",
    "\n",
    "\n",
    "pars = default_pars(T=500)\n",
    "# Uncomment below to test your function\n",
    "# v, sp = run_LIF(pars, Iinj=100, stop=True)\n",
    "# plot_volt_trace(pars, v, sp)\n",
    "# plt.ylim([-80, -60])\n",
    "# plt.show()"
   ],
   "outputs": [],
   "metadata": {
    "cellView": "both",
    "colab": {},
    "colab_type": "code",
    "execution": {
     "iopub.execute_input": "2020-10-26T05:21:36.961135Z",
     "iopub.status.busy": "2020-10-26T05:21:36.960523Z",
     "iopub.status.idle": "2020-10-26T05:21:36.962356Z",
     "shell.execute_reply": "2020-10-26T05:21:36.962677Z"
    }
   }
  },
  {
   "cell_type": "code",
   "execution_count": 6,
   "source": [
    "# to_remove solution\n",
    "def run_LIF(pars, Iinj, stop=False):\n",
    "  \"\"\"\n",
    "  Simulate the LIF dynamics with external input current\n",
    "\n",
    "  Args:\n",
    "    pars       : parameter dictionary\n",
    "    Iinj       : input current [pA]. The injected current here can be a value\n",
    "                 or an array\n",
    "    stop       : boolean. If True, use a current pulse\n",
    "\n",
    "  Returns:\n",
    "    rec_v      : membrane potential\n",
    "    rec_sp     : spike times\n",
    "  \"\"\"\n",
    "  # Set parameters\n",
    "  V_th, V_reset = pars['V_th'], pars['V_reset']\n",
    "  tau_m, g_L = pars['tau_m'], pars['g_L']\n",
    "  V_init, E_L = pars['V_init'], pars['E_L']\n",
    "  dt, range_t = pars['dt'], pars['range_t']\n",
    "  Lt = range_t.size\n",
    "  tref = pars['tref']\n",
    "\n",
    "  # Initialize voltage and current\n",
    "  v = np.zeros(Lt)\n",
    "  v[0] = V_init\n",
    "  Iinj = Iinj * np.ones(Lt)\n",
    "  if stop:  # set end of current to 0 if current pulse\n",
    "    Iinj[:int(len(Iinj) / 2) - 1000] = 0\n",
    "    Iinj[int(len(Iinj) / 2) + 1000:] = 0\n",
    "  tr = 0.  # the count for refractory duration\n",
    "\n",
    "  # Simulate the LIF dynamics\n",
    "  rec_spikes = []  # record spike times\n",
    "  for it in range(Lt - 1):\n",
    "    if tr > 0:  # check for refractoriness\n",
    "      v[it] = V_reset\n",
    "      tr = tr - 1\n",
    "    elif v[it] >= V_th:  # reset voltage and record spike event\n",
    "      rec_spikes.append(it)\n",
    "      v[it] = V_reset\n",
    "      tr = tref / dt\n",
    "\n",
    "    # calculate the increment of the membrane potential\n",
    "    dv = (-(v[it] - E_L) + Iinj[it] / g_L) * (dt / tau_m)\n",
    "\n",
    "    # update the membrane potential\n",
    "    v[it + 1] = v[it] + dv\n",
    "\n",
    "  rec_spikes = np.array(rec_spikes) * dt\n",
    "\n",
    "  return v, rec_spikes\n",
    "\n",
    "\n",
    "pars = default_pars(T=500)\n",
    "# Uncomment below to test your function\n",
    "v, sp = run_LIF(pars, Iinj=100, stop=True)\n",
    "plot_volt_trace(pars, v, sp)\n",
    "plt.ylim([-80, -60])\n",
    "plt.show()"
   ],
   "outputs": [
    {
     "output_type": "display_data",
     "data": {
      "image/png": "[encoded data removed]",
      "text/plain": [
       "<Figure size 432x288 with 1 Axes>"
      ]
     },
     "metadata": {
      "needs_background": "light"
     }
    }
   ],
   "metadata": {
    "colab": {
     "base_uri": "https://localhost:8080/",
     "height": 433
    },
    "colab_type": "code",
    "execution": {
     "iopub.execute_input": "2020-10-26T05:21:36.976979Z",
     "iopub.status.busy": "2020-10-26T05:21:36.976304Z",
     "iopub.status.idle": "2020-10-26T05:21:37.339805Z",
     "shell.execute_reply": "2020-10-26T05:21:37.340180Z"
    },
    "outputId": "c6d432cc-7602-4d35-8acc-6cda1165f104"
   }
  },
  {
   "cell_type": "markdown",
   "source": [
    "---\n",
    "# Section 2: Response of an LIF model to different types of input currents\n",
    "In the following section, we will learn how to inject direct current and white noise to study the response of an LIF neuron."
   ],
   "metadata": {
    "colab_type": "text"
   }
  },
  {
   "cell_type": "markdown",
   "source": [
    "## Section 2.1: Direct current (DC)"
   ],
   "metadata": {
    "colab_type": "text"
   }
  },
  {
   "cell_type": "markdown",
   "source": [
    "### Interactive Demo: Parameter exploration of DC input amplitude \n",
    "Here's an interactive demo that shows how the LIF neuron behavior changes for DC input with different amplitudes.\n",
    "\n",
    "How much DC is needed to reach the threshold (rheobase current)? How does the membrane time constant affect the frequency of the neuron?"
   ],
   "metadata": {
    "colab_type": "text"
   }
  },
  {
   "cell_type": "code",
   "execution_count": 7,
   "source": [
    "# @title\n",
    "# @markdown Make sure you execute this cell to enable the widget!\n",
    "my_layout.width = '450px'\n",
    "@widgets.interact(\n",
    "    I_dc=widgets.FloatSlider(50., min=0., max=300., step=10.,\n",
    "                               layout=my_layout),\n",
    "    tau_m=widgets.FloatSlider(10., min=2., max=20., step=2.,\n",
    "                                layout=my_layout)\n",
    ")\n",
    "\n",
    "def diff_DC(I_dc=200., tau_m=10.):\n",
    "  pars = default_pars(T=100.)\n",
    "  pars['tau_m'] = tau_m\n",
    "  v, sp = run_LIF(pars, Iinj=I_dc)\n",
    "  plot_volt_trace(pars, v, sp)\n",
    "  plt.show()"
   ],
   "outputs": [
    {
     "output_type": "display_data",
     "data": {
      "application/vnd.jupyter.widget-view+json": {
       "version_major": 2,
       "version_minor": 0,
       "model_id": "f7073945ede844abb846004707dd271c"
      },
      "text/plain": [
       "interactive(children=(FloatSlider(value=50.0, description='I_dc', layout=Layout(width='450px'), max=300.0, ste…"
      ]
     },
     "metadata": {}
    }
   ],
   "metadata": {
    "cellView": "form",
    "colab": {
     "base_uri": "https://localhost:8080/",
     "height": 495,
     "referenced_widgets": [
      "0a3c2b7a9c644f368147e048ed02175b",
      "6e5b0e08764d4bc980ae818e24cb3963",
      "5fb01789255a456e896ccfb2a9c5225c",
      "e93592dc124a481ba4054a562a3569c2",
      "42f05a88f70e442bb1f055a2143520ae",
      "927d07f435734ec883b561353c2bdca9",
      "9f51cf66d4dc4badb03d39832e29f0ad",
      "f769bb20bd9a43858a94eeb2bdac72ef",
      "7d9c810bca4748ccbb594cfb401fd0e6"
     ]
    },
    "colab_type": "code",
    "execution": {
     "iopub.execute_input": "2020-10-26T05:21:37.522341Z",
     "iopub.status.busy": "2020-10-26T05:21:37.521709Z",
     "iopub.status.idle": "2020-10-26T05:21:37.677122Z",
     "shell.execute_reply": "2020-10-26T05:21:37.677491Z"
    },
    "outputId": "a70ff10f-0514-4349-f13d-e983349f2bcb"
   }
  },
  {
   "cell_type": "code",
   "execution_count": 8,
   "source": [
    "# to_remove explanation\n",
    "\n",
    "\"\"\"\n",
    "1. As we increase the current, we observe that at 210 pA we cross the threshold.\n",
    "\n",
    "2. As we increase the membrane time constant (slower membrane), the firing rate\n",
    "is decreased because the membrane needs more time to reach the threshold after\n",
    "the reset.\n",
    "\"\"\";"
   ],
   "outputs": [],
   "metadata": {
    "colab": {},
    "colab_type": "code",
    "execution": {
     "iopub.execute_input": "2020-10-26T05:21:37.681261Z",
     "iopub.status.busy": "2020-10-26T05:21:37.680749Z",
     "iopub.status.idle": "2020-10-26T05:21:37.682931Z",
     "shell.execute_reply": "2020-10-26T05:21:37.683288Z"
    }
   }
  },
  {
   "cell_type": "markdown",
   "source": [
    "## Section 2.2: Gaussian white noise (GWN) current \n",
    "\n",
    "Given the noisy nature of neuronal activity _in vivo_, neurons usually receive complex, time-varying inputs.\n",
    "\n",
    "To mimic this, we will now investigate the neuronal response when the LIF neuron receives Gaussian white noise $\\xi(t)$ with mean \n",
    "\n",
    "\\begin{eqnarray}\n",
    "E[\\xi(t)]=\\mu=0,\n",
    "\\end{eqnarray}\n",
    "\n",
    "and autocovariance \n",
    "\\begin{eqnarray}\n",
    "E[\\xi(t)\\xi(t+\\tau)]=\\sigma_\\xi^2 \\delta(\\tau)\n",
    "\\end{eqnarray}\n",
    "\n",
    "Note that the GWN has zero mean, that is, it describes only the fluctuations of the input received by a neuron. We can thus modify our definition of GWN to have a nonzero mean value $\\mu$ that equals the DC input, since this is the average input into the cell. The cell below defines the modified gaussian white noise currents with nonzero mean $\\mu$."
   ],
   "metadata": {
    "colab_type": "text"
   }
  },
  {
   "cell_type": "markdown",
   "source": [
    "### Interactive Demo: LIF neuron Explorer for noisy input\n",
    "\n",
    "The mean of the GWN is the amplitude of DC. Indeed, when $\\sigma = 0$, GWN is just a DC.\n",
    "\n",
    "So the question arises how does $\\sigma$ of the GWN affect the spiking behavior of the neuron. For instance we may want to know\n",
    "- how does the minimum input (i.e. $\\mu$) needed to make a neuron spike change with increase in $\\sigma$\n",
    "- how does the spike regularity change with increase in $\\sigma$\n",
    "\n",
    "To get an intuition about these questions you can use the following interactive demo that shows how the LIF neuron behavior changes for noisy input with different amplitudes (the mean $\\mu$) and fluctuation sizes ($\\sigma$)."
   ],
   "metadata": {
    "colab_type": "text"
   }
  },
  {
   "cell_type": "code",
   "execution_count": 9,
   "source": [
    "# @markdown Execute to enable helper function `my_GWN`\n",
    "\n",
    "def my_GWN(pars, mu, sig, myseed=False):\n",
    "  \"\"\"\n",
    "  Function that generates Gaussian white noise input\n",
    "\n",
    "  Args:\n",
    "    pars       : parameter dictionary\n",
    "    mu         : noise baseline (mean)\n",
    "    sig        : noise amplitute (standard deviation)\n",
    "    myseed     : random seed. int or boolean\n",
    "                 the same seed will give the same\n",
    "                 random number sequence\n",
    "\n",
    "  Returns:\n",
    "    I          : Gaussian white noise input\n",
    "  \"\"\"\n",
    "\n",
    "  # Retrieve simulation parameters\n",
    "  dt, range_t = pars['dt'], pars['range_t']\n",
    "  Lt = range_t.size\n",
    "\n",
    "  # Set random seed\n",
    "  if myseed:\n",
    "      np.random.seed(seed=myseed)\n",
    "  else:\n",
    "      np.random.seed()\n",
    "\n",
    "  # Generate GWN\n",
    "  # we divide here by 1000 to convert units to sec.\n",
    "  I_gwn = mu + sig * np.random.randn(Lt) / np.sqrt(dt / 1000.)\n",
    "\n",
    "  return I_gwn\n",
    "\n",
    "help(my_GWN)"
   ],
   "outputs": [
    {
     "output_type": "stream",
     "name": "stdout",
     "text": [
      "Help on function my_GWN in module __main__:\n",
      "\n",
      "my_GWN(pars, mu, sig, myseed=False)\n",
      "    Function that generates Gaussian white noise input\n",
      "    \n",
      "    Args:\n",
      "      pars       : parameter dictionary\n",
      "      mu         : noise baseline (mean)\n",
      "      sig        : noise amplitute (standard deviation)\n",
      "      myseed     : random seed. int or boolean\n",
      "                   the same seed will give the same\n",
      "                   random number sequence\n",
      "    \n",
      "    Returns:\n",
      "      I          : Gaussian white noise input\n",
      "\n"
     ]
    }
   ],
   "metadata": {}
  },
  {
   "cell_type": "code",
   "execution_count": 10,
   "source": [
    "# @title\n",
    "\n",
    "# @markdown Make sure you execute this cell to enable the widget!\n",
    "\n",
    "my_layout.width = '450px'\n",
    "@widgets.interact(\n",
    "    mu_gwn=widgets.FloatSlider(200., min=100., max=300., step=5.,\n",
    "                               layout=my_layout),\n",
    "    sig_gwn=widgets.FloatSlider(2.5, min=0., max=5., step=.5,\n",
    "                                layout=my_layout)\n",
    ")\n",
    "\n",
    "\n",
    "def diff_GWN_to_LIF(mu_gwn, sig_gwn):\n",
    "  pars = default_pars(T=100.)\n",
    "  I_GWN = my_GWN(pars, mu=mu_gwn, sig=sig_gwn)\n",
    "  v, sp = run_LIF(pars, Iinj=I_GWN)\n",
    "  plt.figure(figsize=(12, 4))\n",
    "  plt.subplot(121)\n",
    "  plt.plot(pars['range_t'][::3], I_GWN[::3], 'b')\n",
    "  plt.xlabel('Time (ms)')\n",
    "  plt.ylabel(r'$I_{GWN}$ (pA)')\n",
    "  plt.subplot(122)\n",
    "  plot_volt_trace(pars, v, sp)\n",
    "  plt.tight_layout()\n",
    "  plt.show()"
   ],
   "outputs": [
    {
     "output_type": "display_data",
     "data": {
      "application/vnd.jupyter.widget-view+json": {
       "version_major": 2,
       "version_minor": 0,
       "model_id": "2997808b39724836a21d2240c16a42fd"
      },
      "text/plain": [
       "interactive(children=(FloatSlider(value=200.0, description='mu_gwn', layout=Layout(width='450px'), max=300.0, …"
      ]
     },
     "metadata": {}
    }
   ],
   "metadata": {
    "cellView": "form",
    "colab": {
     "base_uri": "https://localhost:8080/",
     "height": 351,
     "referenced_widgets": [
      "383a056441eb4966a80ff62b669424da",
      "e0ab6d63a0a54342b8b3ce12e3a18f0d",
      "9f5c72fd5f1b431eb244077ba357d5f7",
      "35f4a4d49fdd4457af435099aedbc7f5",
      "5c642860b3ff4a509b484fd182a523ca",
      "9f4dd2c160a74d67a92d708f322f0cbb",
      "9f51cf66d4dc4badb03d39832e29f0ad",
      "4125c32baba245889d4fb15ff4ddd38f",
      "edb5b83064e24e7693598fce35a35bd3"
     ]
    },
    "colab_type": "code",
    "execution": {
     "iopub.execute_input": "2020-10-26T05:21:38.114324Z",
     "iopub.status.busy": "2020-10-26T05:21:38.113763Z",
     "iopub.status.idle": "2020-10-26T05:21:38.407997Z",
     "shell.execute_reply": "2020-10-26T05:21:38.407612Z"
    },
    "outputId": "b3293ab4-fcba-42cb-851b-35f9a0184007"
   }
  },
  {
   "cell_type": "code",
   "execution_count": 11,
   "source": [
    "# to_remove explanation\n",
    "\n",
    "\"\"\"\n",
    "If we have bigger current fluctuations (increased sigma), the minimum input needed\n",
    "to make a neuron spike is smaller as the fluctuations can help push the voltage above\n",
    "threshold.\n",
    "\n",
    "The standard deviation (or size of current fluctuations) dictates the level of\n",
    "irregularity of the spikes; the higher the sigma the more irregular the observed\n",
    "spikes.\n",
    "\n",
    "\"\"\";"
   ],
   "outputs": [],
   "metadata": {
    "colab": {},
    "colab_type": "code",
    "execution": {
     "iopub.execute_input": "2020-10-26T05:21:38.411682Z",
     "iopub.status.busy": "2020-10-26T05:21:38.411037Z",
     "iopub.status.idle": "2020-10-26T05:21:38.413278Z",
     "shell.execute_reply": "2020-10-26T05:21:38.413686Z"
    }
   }
  },
  {
   "cell_type": "markdown",
   "source": [
    "## Think!\n",
    "- As we increase the input average ($\\mu$) or the input fluctuation ($\\sigma$), the spike count changes. How much can we increase the spike count, and what might be the relationship between GWN mean/std or DC value and spike count? \n",
    "\n",
    "- We have seen above that when we inject DC, the neuron spikes in a regular manner (clock like), and this regularity is reduced when GWN is injected. The question is, how irregular can we make the neurons spiking by changing the parameters of the GWN? \n",
    "\n",
    "We will see the answers to these questions in the next section but discuss first!"
   ],
   "metadata": {
    "colab_type": "text"
   }
  },
  {
   "cell_type": "markdown",
   "source": [
    "---\n",
    "# Section 3: Firing rate and spike time irregularity\n",
    "When we plot the output firing rate as a function of GWN mean or DC value, it is called the input-output transfer function of the neuron (so simply F-I curve).\n",
    "\n",
    "Spike regularity can be quantified as the **coefficient of variance (CV) of the inter-spike-interval (ISI)**:\n",
    "\\begin{align}\n",
    "\\text{CV}_{\\text{ISI}} = \\frac{std(\\text{ISI})}{mean(\\text{ISI})}\n",
    "\\end{align}\n",
    "\n",
    "A Poisson train is an example of high irregularity, in which $\\textbf{CV}_{\\textbf{ISI}} \\textbf{= 1}$. And for a clocklike (regular) process we have $\\textbf{CV}_{\\textbf{ISI}} \\textbf{= 0}$ because of **std(ISI)=0**."
   ],
   "metadata": {
    "colab_type": "text"
   }
  },
  {
   "cell_type": "markdown",
   "source": [
    "## Interactive Demo: F-I Explorer for different `sig_gwn`\n",
    "\n",
    "How does the F-I curve of the LIF neuron change as we increase the $\\sigma$ of the GWN? We can already expect that the F-I curve will be stochastic and the results will vary from one trial to another. But will there be any other change compared to the F-I curved measured using DC?\n",
    "\n",
    "Here's an interactive demo that shows how the F-I curve of a LIF neuron changes for different levels of fluctuation $\\sigma$.\n"
   ],
   "metadata": {
    "colab_type": "text"
   }
  },
  {
   "cell_type": "code",
   "execution_count": 12,
   "source": [
    "# @title\n",
    "\n",
    "# @markdown Make sure you execute this cell to enable the widget!\n",
    "\n",
    "\n",
    "my_layout.width = '450px'\n",
    "@widgets.interact(\n",
    "    sig_gwn=widgets.FloatSlider(3.0, min=0., max=6., step=0.5,\n",
    "                                layout=my_layout)\n",
    ")\n",
    "\n",
    "\n",
    "def diff_std_affect_fI(sig_gwn):\n",
    "  pars = default_pars(T=1000.)\n",
    "  I_mean = np.arange(100., 400., 10.)\n",
    "  spk_count = np.zeros(len(I_mean))\n",
    "  spk_count_dc = np.zeros(len(I_mean))\n",
    "\n",
    "  for idx in range(len(I_mean)):\n",
    "      I_GWN = my_GWN(pars, mu=I_mean[idx], sig=sig_gwn, myseed=2020)\n",
    "      v, rec_spikes = run_LIF(pars, Iinj=I_GWN)\n",
    "      v_dc, rec_sp_dc = run_LIF(pars, Iinj=I_mean[idx])\n",
    "      spk_count[idx] = len(rec_spikes)\n",
    "      spk_count_dc[idx] = len(rec_sp_dc)\n",
    "\n",
    "  # Plot the F-I curve i.e. Output firing rate as a function of input mean.\n",
    "  plt.figure()\n",
    "  plt.plot(I_mean, spk_count, 'k',\n",
    "           label=r'$\\sigma_{\\mathrm{GWN}}=%.2f$' % sig_gwn)\n",
    "  plt.plot(I_mean, spk_count_dc, 'k--', alpha=0.5, lw=4, dashes=(2, 2),\n",
    "           label='DC input')\n",
    "  plt.ylabel('Spike count')\n",
    "  plt.xlabel('Average injected current (pA)')\n",
    "  plt.legend(loc='best')\n",
    "  plt.show()"
   ],
   "outputs": [
    {
     "output_type": "display_data",
     "data": {
      "application/vnd.jupyter.widget-view+json": {
       "version_major": 2,
       "version_minor": 0,
       "model_id": "3da8d8d682054b19b9563f20e727349d"
      },
      "text/plain": [
       "interactive(children=(FloatSlider(value=3.0, description='sig_gwn', layout=Layout(width='450px'), max=6.0, ste…"
      ]
     },
     "metadata": {}
    }
   ],
   "metadata": {
    "cellView": "form",
    "colab": {
     "base_uri": "https://localhost:8080/",
     "height": 463,
     "referenced_widgets": [
      "31a371e1f9b24ed681544a35f430963d",
      "82b089179d2949a78b0b768c15f88c15",
      "afe2ee4ad6e94b0da6fedaf76bb128e5",
      "65a7bc293fbc4af5831dc7e853325ab4",
      "b22abe8b35694470ae024a7f04cf2e4f",
      "9f51cf66d4dc4badb03d39832e29f0ad",
      "09d74a1e70374dd28754915e033b77e2"
     ]
    },
    "colab_type": "code",
    "execution": {
     "iopub.execute_input": "2020-10-26T05:21:38.422354Z",
     "iopub.status.busy": "2020-10-26T05:21:38.421827Z",
     "iopub.status.idle": "2020-10-26T05:21:39.306776Z",
     "shell.execute_reply": "2020-10-26T05:21:39.307157Z"
    },
    "outputId": "85458a28-f3bd-4977-b418-78c96522cd5a"
   }
  },
  {
   "cell_type": "code",
   "execution_count": 13,
   "source": [
    "# to_remove explanation\n",
    "\n",
    "\"\"\"\n",
    "Discussion: If we use a DC input, the F-I curve is deterministic, and we can\n",
    "found its shape by solving the membrane equation of the neuron. If we have GWN,\n",
    "as we increase the sigma, the F-I curve has a more linear shape, and the neuron\n",
    "reaches its threshold using less average injected current.\n",
    "\"\"\""
   ],
   "outputs": [
    {
     "output_type": "execute_result",
     "data": {
      "text/plain": [
       "'\\nDiscussion: If we use a DC input, the F-I curve is deterministic, and we can\\nfound its shape by solving the membrane equation of the neuron. If we have GWN,\\nas we increase the sigma, the F-I curve has a more linear shape, and the neuron\\nreaches its threshold using less average injected current.\\n'"
      ]
     },
     "metadata": {},
     "execution_count": 13
    }
   ],
   "metadata": {
    "colab": {
     "base_uri": "https://localhost:8080/",
     "height": 71
    },
    "colab_type": "code",
    "execution": {
     "iopub.execute_input": "2020-10-26T05:21:39.310680Z",
     "iopub.status.busy": "2020-10-26T05:21:39.309618Z",
     "iopub.status.idle": "2020-10-26T05:21:39.312879Z",
     "shell.execute_reply": "2020-10-26T05:21:39.313239Z"
    },
    "outputId": "3289063b-a6e6-47df-cbcb-f1818ea70a95"
   }
  },
  {
   "cell_type": "markdown",
   "source": [
    "### Coding Exercise 3: Compute $CV_{ISI}$ values\n",
    "\n",
    "As shown above, the F-I curve becomes smoother while increasing the amplitude of the fluctuation ($\\sigma$). In addition, the fluctuation can also change the irregularity of the spikes. Let's investigate the effect of $\\mu=250$ with $\\sigma=0.5$ vs $\\sigma=3$. \n",
    "\n",
    "Fill in the code below to compute ISI, then plot the histogram of the ISI and compute the $CV_{ISI}$. Note that, you can use `np.diff` to calculate ISI."
   ],
   "metadata": {
    "colab_type": "text"
   }
  },
  {
   "cell_type": "code",
   "execution_count": 14,
   "source": [
    "def isi_cv_LIF(spike_times):\n",
    "  \"\"\"\n",
    "  Calculates the inter-spike intervals (isi) and\n",
    "  the coefficient of variation (cv) for a given spike_train\n",
    "\n",
    "  Args:\n",
    "    spike_times : (n, ) vector with the spike times (ndarray)\n",
    "\n",
    "  Returns:\n",
    "    isi         : (n-1,) vector with the inter-spike intervals (ms)\n",
    "    cv          : coefficient of variation of isi (float)\n",
    "\n",
    "  \"\"\"\n",
    "  ########################################################################\n",
    "  ## TODO for students: compute the membrane potential v, spike train sp #\n",
    "  # Fill out function and remove\n",
    "  raise NotImplementedError('Student Exercise: calculate the isi and the cv!')\n",
    "  ########################################################################\n",
    "  if len(spike_times) >= 2:\n",
    "    # Compute isi\n",
    "    isi = ...\n",
    "    # Compute cv\n",
    "    cv = ...\n",
    "  else:\n",
    "    isi = np.nan\n",
    "    cv = np.nan\n",
    "\n",
    "  return isi, cv\n",
    "\n",
    "\n",
    "pars = default_pars(T=1000.)\n",
    "mu_gwn = 250\n",
    "sig_gwn1 = 0.5\n",
    "sig_gwn2 = 3.0\n",
    "\n",
    "I_GWN1 = my_GWN(pars, mu=mu_gwn, sig=sig_gwn1, myseed=2020)\n",
    "_, sp1 = run_LIF(pars, Iinj=I_GWN1)\n",
    "\n",
    "I_GWN2 = my_GWN(pars, mu=mu_gwn, sig=sig_gwn2, myseed=2020)\n",
    "_, sp2 = run_LIF(pars, Iinj=I_GWN2)\n",
    "\n",
    "# Uncomment to check your function\n",
    "# isi1, cv1 = isi_cv_LIF(sp1)\n",
    "# isi2, cv2 = isi_cv_LIF(sp2)\n",
    "\n",
    "# my_hists(isi1, isi2, cv1, cv2, sig_gwn1, sig_gwn2)"
   ],
   "outputs": [],
   "metadata": {
    "colab": {},
    "colab_type": "code",
    "execution": {
     "iopub.execute_input": "2020-10-26T05:21:39.318507Z",
     "iopub.status.busy": "2020-10-26T05:21:39.318000Z",
     "iopub.status.idle": "2020-10-26T05:21:39.344670Z",
     "shell.execute_reply": "2020-10-26T05:21:39.345053Z"
    }
   }
  },
  {
   "cell_type": "code",
   "execution_count": 15,
   "source": [
    "# to_remove solution\n",
    "def isi_cv_LIF(spike_times):\n",
    "  \"\"\"\n",
    "  Calculates the inter-spike intervals (isi) and\n",
    "  the coefficient of variation (cv) for a given spike_train\n",
    "\n",
    "  Args:\n",
    "    spike_times : (n, ) vector with the spike times (ndarray)\n",
    "\n",
    "  Returns:\n",
    "    isi         : (n-1,) vector with the inter-spike intervals (ms)\n",
    "    cv          : coefficient of variation of isi (float)\n",
    "\n",
    "  \"\"\"\n",
    "\n",
    "  if len(spike_times) >= 2:\n",
    "    # Compute isi\n",
    "    isi = np.diff(spike_times)\n",
    "    # Compute cv\n",
    "    cv = isi.std()/isi.mean()\n",
    "  else:\n",
    "    isi = np.nan\n",
    "    cv = np.nan\n",
    "\n",
    "  return isi, cv\n",
    "\n",
    "\n",
    "pars = default_pars(T=1000.)\n",
    "mu_gwn = 250\n",
    "sig_gwn1 = 0.5\n",
    "sig_gwn2 = 3.0\n",
    "\n",
    "I_GWN1 = my_GWN(pars, mu=mu_gwn, sig=sig_gwn1, myseed=2020)\n",
    "_, sp1 = run_LIF(pars, Iinj=I_GWN1)\n",
    "\n",
    "I_GWN2 = my_GWN(pars, mu=mu_gwn, sig=sig_gwn2, myseed=2020)\n",
    "_, sp2 = run_LIF(pars, Iinj=I_GWN2)\n",
    "\n",
    "# Uncomment to check your function\n",
    "isi1, cv1 = isi_cv_LIF(sp1)\n",
    "isi2, cv2 = isi_cv_LIF(sp2)\n",
    "\n",
    "my_hists(isi1, isi2, cv1, cv2, sig_gwn1, sig_gwn2)"
   ],
   "outputs": [
    {
     "output_type": "display_data",
     "data": {
      "image/png": "[encoded data removed]",
      "text/plain": [
       "<Figure size 792x288 with 2 Axes>"
      ]
     },
     "metadata": {
      "needs_background": "light"
     }
    }
   ],
   "metadata": {
    "colab": {
     "base_uri": "https://localhost:8080/",
     "height": 288
    },
    "colab_type": "code",
    "execution": {
     "iopub.execute_input": "2020-10-26T05:21:39.351016Z",
     "iopub.status.busy": "2020-10-26T05:21:39.350513Z",
     "iopub.status.idle": "2020-10-26T05:21:39.863777Z",
     "shell.execute_reply": "2020-10-26T05:21:39.864211Z"
    },
    "outputId": "eddee261-7a00-4b28-bf05-11bae573a517"
   }
  },
  {
   "cell_type": "markdown",
   "source": [
    "## Interactive Demo: Spike irregularity explorer for different `sig_gwn`\n",
    "\n",
    "In the above illustration, we see that the CV of inter-spike-interval (ISI) distribution depends on $\\sigma$ of GWN. What about the mean of GWN, should that also affect the CV$_{\\rm ISI}$? If yes, how? Does the efficacy of $\\sigma$ in increasing the CV$_{\\rm ISI}$ depend on $\\mu$?\n",
    "\n",
    "In the following interactive demo, you will examine how different levels of fluctuation $\\sigma$ affect the CVs for different average injected currents ($\\mu$)."
   ],
   "metadata": {
    "colab_type": "text"
   }
  },
  {
   "cell_type": "code",
   "execution_count": 16,
   "source": [
    "#@title\n",
    "\n",
    "#@markdown Make sure you execute this cell to enable the widget!\n",
    "\n",
    "my_layout.width = '450px'\n",
    "@widgets.interact(\n",
    "    sig_gwn=widgets.FloatSlider(0.0, min=0., max=10.,\n",
    "                                step=0.5, layout=my_layout)\n",
    ")\n",
    "\n",
    "\n",
    "def diff_std_affect_fI(sig_gwn):\n",
    "  pars = default_pars(T=1000.)\n",
    "  I_mean = np.arange(100., 400., 20)\n",
    "  spk_count = np.zeros(len(I_mean))\n",
    "  cv_isi = np.empty(len(I_mean))\n",
    "\n",
    "  for idx in range(len(I_mean)):\n",
    "    I_GWN = my_GWN(pars, mu=I_mean[idx], sig=sig_gwn)\n",
    "    v, rec_spikes = run_LIF(pars, Iinj=I_GWN)\n",
    "    spk_count[idx] = len(rec_spikes)\n",
    "    if len(rec_spikes) > 3:\n",
    "      isi = np.diff(rec_spikes)\n",
    "      cv_isi[idx] = np.std(isi) / np.mean(isi)\n",
    "\n",
    "  # Plot the F-I curve i.e. Output firing rate as a function of input mean.\n",
    "  plt.figure()\n",
    "  plt.plot(I_mean[spk_count > 5], cv_isi[spk_count > 5], 'bo', alpha=0.5)\n",
    "  plt.xlabel('Average injected current (pA)')\n",
    "  plt.ylabel(r'Spike irregularity ($\\mathrm{CV}_\\mathrm{ISI}$)')\n",
    "  plt.ylim(-0.1, 1.5)\n",
    "  plt.grid(True)\n",
    "  plt.show()"
   ],
   "outputs": [
    {
     "output_type": "display_data",
     "data": {
      "application/vnd.jupyter.widget-view+json": {
       "version_major": 2,
       "version_minor": 0,
       "model_id": "06f831221a38429395ce2d2f3d97a422"
      },
      "text/plain": [
       "interactive(children=(FloatSlider(value=0.0, description='sig_gwn', layout=Layout(width='450px'), max=10.0, st…"
      ]
     },
     "metadata": {}
    }
   ],
   "metadata": {
    "cellView": "form",
    "colab": {
     "base_uri": "https://localhost:8080/",
     "height": 462,
     "referenced_widgets": [
      "d31578bc440d4d61b7001dad4b1a430d",
      "e6908f2c459d4d2181be623ecb06f0b7",
      "526ae8d6bb7949e883be7cd4c6b717f6",
      "0a43412766354aed8fa8e9f21984ac05",
      "33ddc9ddaed34e6aafe32f856af1189a",
      "9f51cf66d4dc4badb03d39832e29f0ad",
      "0d54a630b8c7444eb702308fc1904fd3"
     ]
    },
    "colab_type": "code",
    "execution": {
     "iopub.execute_input": "2020-10-26T05:21:39.872989Z",
     "iopub.status.busy": "2020-10-26T05:21:39.872410Z",
     "iopub.status.idle": "2020-10-26T05:21:40.225655Z",
     "shell.execute_reply": "2020-10-26T05:21:40.226013Z"
    },
    "outputId": "92afed28-232b-4ef3-fc3e-61f3fde86fe3"
   }
  },
  {
   "cell_type": "markdown",
   "source": [
    "### Try to answer the following:\n",
    "- Does the standard deviation of the injected current affect the F-I curve in any qualitative manner?\n",
    "- Why does increasing the mean of GWN reduce the $CV_{ISI}$?\n",
    "- If you plot spike count (or rate) vs. $CV_{ISI}$, should there be a relationship between the two? Try out yourself.\n"
   ],
   "metadata": {
    "colab_type": "text"
   }
  },
  {
   "cell_type": "code",
   "execution_count": 17,
   "source": [
    "# to_remove explanation\n",
    "\n",
    "\"\"\"\n",
    "1. Yes, it does. With DC input the F-I curve has a strong non-linearity but when\n",
    "a neuron is driven with GWN, as we increase the $\\sigma$ the non-linearity is\n",
    "smoothened out. Essentially, in this case noise is acting to suppress the\n",
    "non-linearities and render a neuron as a linear system.\n",
    "\n",
    "2. (here is a short answer) When we increase the mean of the GWN, at some point\n",
    "effective input mean is above the spike threshold and then the neuron operates\n",
    "in the so called mean-driven regime -- as the input is so high all the neuron\n",
    "is does is charge up to the spike threshold and reset. This essentially gives\n",
    "almost regular spiking.\n",
    "\n",
    "3. In an LIF, high firing rates are achieved for high GWN mean. Higher the mean,\n",
    "higher the firing rate and lower the CV_ISI. So you will expect that as firing rate\n",
    "increases, spike irregularity decreases. This is because of the spike threshold.\n",
    "FOr a Poisson process there is no relationship between spike rate and spike\n",
    "irregularity.\n",
    "\"\"\";"
   ],
   "outputs": [],
   "metadata": {
    "colab": {},
    "colab_type": "code",
    "execution": {
     "iopub.execute_input": "2020-10-26T05:21:40.229509Z",
     "iopub.status.busy": "2020-10-26T05:21:40.228319Z",
     "iopub.status.idle": "2020-10-26T05:21:40.231605Z",
     "shell.execute_reply": "2020-10-26T05:21:40.231960Z"
    }
   }
  },
  {
   "cell_type": "markdown",
   "source": [
    "---\n",
    "# Section 4: Generation of Poisson type spike trains\n",
    "\n",
    "*In the next tutorials, we will often use Poisson type spike train to explore properties of neurons and synapses. Therefore, it is good to know how to generate Poisson type spike trains.*\n",
    "\n",
    "Mathematically, a spike train is a Point Process. One of the simplest models of a sequence of presynaptic pulse inputs is the Poisson process. We know that given temporal integration and refractoriness, neurons cannot behave as a Poisson Process, and Gamma Process gives a better approximation (*find out what might be the difference in the two processes*). \n",
    "Here, however, we will assume that the incoming spikes are following Poisson statistics. A question arises about how to simulate a Poisson process. The generation of the Poisson process can be realized by at least two following ways:\n",
    "\n",
    "- By definition, for a Poisson process with rate $\\lambda$, the probability of finding one event in the time window with a sufficiently small length $\\Delta t$ is $P(N = 1) = \\lambda \\Delta t$. Therefore, in each time window, we generate a uniformly distributed random variable $r \\in [0,1]$ and generate a Poisson event when $r <\\lambda \\Delta t$. This method allows us to generate Poisson distributed spikes in an online manner.\n",
    "\n",
    "\n",
    "- The interval $t_{k+1}-t_{k}$ between two Poisson events with rate $\\lambda$ follows the exponential distribution, i.e., $P(t_{k+1}-t_{k}<t) = 1 - e^{-\\lambda t}$. Therefore, we only need to generate a set of exponentially distributed variables $\\{s_k\\}$ to obtain the timing of Poisson events $t_{k+1}=t_{k}+s_{k}$. In this method, we need to generate all future spikes at once. \n",
    "\n",
    "Below, we use the first method in a function `Poisson_generator`, which takes arguments `(pars, rate, n, myseed)`."
   ],
   "metadata": {
    "colab_type": "text"
   }
  },
  {
   "cell_type": "code",
   "execution_count": 18,
   "source": [
    "# @title\n",
    "# @markdown Execute this cell to get a Poisson_generator function\n",
    "\n",
    "\n",
    "def Poisson_generator(pars, rate, n, myseed=False):\n",
    "  \"\"\"\n",
    "  Generates poisson trains\n",
    "\n",
    "  Args:\n",
    "    pars            : parameter dictionary\n",
    "    rate            : noise amplitute [Hz]\n",
    "    n               : number of Poisson trains\n",
    "    myseed          : random seed. int or boolean\n",
    "\n",
    "  Returns:\n",
    "    pre_spike_train : spike train matrix, ith row represents whether\n",
    "                      there is a spike in ith spike train over time\n",
    "                      (1 if spike, 0 otherwise)\n",
    "  \"\"\"\n",
    "\n",
    "  # Retrieve simulation parameters\n",
    "  dt, range_t = pars['dt'], pars['range_t']\n",
    "  Lt = range_t.size\n",
    "\n",
    "  # set random seed\n",
    "  if myseed:\n",
    "      np.random.seed(seed=myseed)\n",
    "  else:\n",
    "      np.random.seed()\n",
    "\n",
    "  # generate uniformly distributed random variables\n",
    "  u_rand = np.random.rand(n, Lt)\n",
    "\n",
    "  # generate Poisson train\n",
    "  poisson_train = 1. * (u_rand < rate * (dt / 1000.))\n",
    "\n",
    "  return poisson_train"
   ],
   "outputs": [],
   "metadata": {
    "cellView": "form",
    "colab": {},
    "colab_type": "code",
    "execution": {
     "iopub.execute_input": "2020-10-26T05:21:40.236497Z",
     "iopub.status.busy": "2020-10-26T05:21:40.235989Z",
     "iopub.status.idle": "2020-10-26T05:21:40.237837Z",
     "shell.execute_reply": "2020-10-26T05:21:40.238207Z"
    }
   }
  },
  {
   "cell_type": "code",
   "execution_count": 19,
   "source": [
    "# we can use Poisson_generator to mimic presynaptic spike trains\n",
    "pars = default_pars()\n",
    "pre_spike_train = Poisson_generator(pars, rate=10, n=100, myseed=2020)\n",
    "my_raster_Poisson(pars['range_t'], pre_spike_train, 100)"
   ],
   "outputs": [
    {
     "output_type": "display_data",
     "data": {
      "image/png": "[encoded data removed]",
      "text/plain": [
       "<Figure size 432x288 with 1 Axes>"
      ]
     },
     "metadata": {
      "needs_background": "light"
     }
    }
   ],
   "metadata": {
    "colab": {
     "base_uri": "https://localhost:8080/",
     "height": 430
    },
    "colab_type": "code",
    "execution": {
     "iopub.execute_input": "2020-10-26T05:21:40.241648Z",
     "iopub.status.busy": "2020-10-26T05:21:40.241042Z",
     "iopub.status.idle": "2020-10-26T05:21:40.458616Z",
     "shell.execute_reply": "2020-10-26T05:21:40.458976Z"
    },
    "outputId": "759a55da-4249-46a4-a89f-2dbebd33bba2"
   }
  },
  {
   "cell_type": "markdown",
   "source": [
    "How do we make sure that the above spike trains are following Poisson statistics?\n",
    "A Poisson process must have the following properties:\n",
    "- The ratio of the mean and variance of spike count is 1\n",
    "- Inter-spike-intervals are exponentially distributed\n",
    "- Spike times are irregular i.e. $CV_{\\rm ISI} = 1$\n",
    "- Adjacent spike intervals are independent of each other.\n"
   ],
   "metadata": {
    "colab_type": "text"
   }
  },
  {
   "cell_type": "markdown",
   "source": [
    "---\n",
    "# Summary\n",
    "\n",
    "Congratulations! You've just built a leaky integrate-and-fire (LIF) neuron model from scratch, and studied its dynamics in response to various types of inputs, having:\n",
    "\n",
    "- simulated the LIF neuron model\n",
    "\n",
    "- driven the LIF neuron with external inputs, such as direct current, Gaussian white noise, and Poisson spike trains, etc.\n",
    "\n",
    "- studied how different inputs affect the  LIF neuron's output (firing rate and spike time irregularity),\n",
    "\n",
    "with a special focus on low rate and irregular firing regime to mimc real cortical neurons. The next tutorial will look at how single neuron interacts with each others.\n",
    "\n",
    "However, if you have extra time, follow the section below to explore a different type of noise input.\n"
   ],
   "metadata": {
    "colab_type": "text"
   }
  },
  {
   "cell_type": "markdown",
   "source": [
    "---\n",
    "# Bonus: Orenstein-Uhlenbeck Process\n",
    "\n",
    "When a neuron receives spiking input, the synaptic current is Shot Noise -- which is a kind of colored noise and the spectrum of the noise determined by the synaptic kernel time constant. That is, a neuron is driven by **colored noise** and not GWN.\n",
    "\n",
    "We can model colored noise using the Ohrenstein-Uhlenbeck process - filtered white noise. "
   ],
   "metadata": {
    "colab_type": "text"
   }
  },
  {
   "cell_type": "markdown",
   "source": [
    "## Ornstein-Uhlenbeck (OU) current\n",
    "\n",
    "We next study if the input current is temporally correlated and is modeled as an Ornstein-Uhlenbeck process $\\eta(t)$, i.e., low-pass filtered GWN with a time constant $\\tau_{\\eta}$: \n",
    "\n",
    "$$\\tau_\\eta \\frac{d}{dt}\\eta(t) = \\mu-\\eta(t) + \\sigma_\\eta\\sqrt{2\\tau_\\eta}\\xi(t).$$\n",
    "\n",
    "**Hint:** An OU process as defined above has\n",
    "\n",
    "$$E[\\eta(t)]=\\mu$$ \n",
    "\n",
    "and autocovariance \n",
    "\n",
    "$$[\\eta(t)\\eta(t+\\tau)]=\\sigma_\\eta^2e^{-|t-\\tau|/\\tau_\\eta},$$\n",
    "\n",
    "which can be used to check your code. "
   ],
   "metadata": {
    "colab_type": "text"
   }
  },
  {
   "cell_type": "code",
   "execution_count": 20,
   "source": [
    "# @title `my_OU(pars, mu, sig, myseed)`\n",
    "# @markdown Ececute this cell to enable the OU process\n",
    "\n",
    "\n",
    "def my_OU(pars, mu, sig, myseed=False):\n",
    "  \"\"\"\n",
    "  Function that produces Ornstein-Uhlenbeck input\n",
    "\n",
    "  Args:\n",
    "    pars       : parameter dictionary\n",
    "    sig        : noise amplitute\n",
    "    myseed     : random seed. int or boolean\n",
    "\n",
    "  Returns:\n",
    "    I_ou       : Ornstein-Uhlenbeck input current\n",
    "  \"\"\"\n",
    "\n",
    "  # Retrieve simulation parameters\n",
    "  dt, range_t = pars['dt'], pars['range_t']\n",
    "  Lt = range_t.size\n",
    "  tau_ou = pars['tau_ou']  # [ms]\n",
    "\n",
    "  # set random seed\n",
    "  if myseed:\n",
    "    np.random.seed(seed=myseed)\n",
    "  else:\n",
    "    np.random.seed()\n",
    "\n",
    "  # Initialize\n",
    "  noise = np.random.randn(Lt)\n",
    "  I_ou = np.zeros(Lt)\n",
    "  I_ou[0] = noise[0] * sig\n",
    "\n",
    "  # generate OU\n",
    "  for it in range(Lt-1):\n",
    "    I_ou[it+1] = I_ou[it] + (dt / tau_ou) * (mu - I_ou[it]) + np.sqrt(2 * dt / tau_ou) * sig * noise[it + 1]\n",
    "\n",
    "  return I_ou"
   ],
   "outputs": [],
   "metadata": {
    "cellView": "form",
    "colab": {},
    "colab_type": "code",
    "execution": {
     "iopub.execute_input": "2020-10-26T05:21:40.464788Z",
     "iopub.status.busy": "2020-10-26T05:21:40.464222Z",
     "iopub.status.idle": "2020-10-26T05:21:40.466088Z",
     "shell.execute_reply": "2020-10-26T05:21:40.466485Z"
    }
   }
  },
  {
   "cell_type": "markdown",
   "source": [
    "### Interactive Demo: LIF Explorer with OU input\n",
    "In the following, we will check how a neuron responds to a noisy current that follows the statistics of an OU process."
   ],
   "metadata": {
    "colab_type": "text"
   }
  },
  {
   "cell_type": "code",
   "execution_count": 21,
   "source": [
    "# @title\n",
    "\n",
    "# @markdown Remember to enable the widget by running the cell!\n",
    "\n",
    "my_layout.width = '450px'\n",
    "@widgets.interact(\n",
    "  tau_ou=widgets.FloatSlider(10.0, min=5., max=20.,\n",
    "                             step=2.5, layout=my_layout),\n",
    "  sig_ou=widgets.FloatSlider(10.0, min=5., max=40.,\n",
    "                             step=2.5, layout=my_layout),\n",
    "  mu_ou=widgets.FloatSlider(190.0, min=180., max=220.,\n",
    "                            step=2.5, layout=my_layout)\n",
    ")\n",
    "\n",
    "\n",
    "def LIF_with_OU(tau_ou=10., sig_ou=40., mu_ou=200.):\n",
    "  pars = default_pars(T=1000.)\n",
    "  pars['tau_ou'] = tau_ou  # [ms]\n",
    "\n",
    "  I_ou = my_OU(pars, mu_ou, sig_ou)\n",
    "\n",
    "  v, sp = run_LIF(pars, Iinj=I_ou)\n",
    "\n",
    "  plt.figure(figsize=(12, 4))\n",
    "  plt.subplot(121)\n",
    "  plt.plot(pars['range_t'], I_ou, 'b', lw=1.0)\n",
    "  plt.xlabel('Time (ms)')\n",
    "  plt.ylabel(r'$I_{\\mathrm{OU}}$ (pA)')\n",
    "  plt.subplot(122)\n",
    "  plot_volt_trace(pars, v, sp)\n",
    "  plt.tight_layout()\n",
    "  plt.show()"
   ],
   "outputs": [
    {
     "output_type": "display_data",
     "data": {
      "application/vnd.jupyter.widget-view+json": {
       "version_major": 2,
       "version_minor": 0,
       "model_id": "d7b205e76a64481aa8dd599fb0b25fd1"
      },
      "text/plain": [
       "interactive(children=(FloatSlider(value=10.0, description='tau_ou', layout=Layout(width='450px'), max=20.0, mi…"
      ]
     },
     "metadata": {}
    }
   ],
   "metadata": {
    "cellView": "form",
    "colab": {
     "base_uri": "https://localhost:8080/",
     "height": 383,
     "referenced_widgets": [
      "c3e38555a48845aaba9103ed7658a23e",
      "d3a22a83bd7e408eb2a443bee709a16b",
      "f48903ddd41d4249b411b84d35a41394",
      "e862234457994cf28f119467fcaf5def",
      "c5c9b8c78a604984abf9b5b036ef50e7",
      "0c71cfbbeaa9461696c28841addc78b1",
      "3f36a3a5e6854e8598e6e2db0cf6492d",
      "9f51cf66d4dc4badb03d39832e29f0ad",
      "f9162b84c0604578a09b4ab0a8227ec8",
      "8f91ed14728a45b19b690b1ad99a5dab",
      "42e0a7e73aaa4c159d44f486f67f3e75"
     ]
    },
    "colab_type": "code",
    "execution": {
     "iopub.execute_input": "2020-10-26T05:21:40.475090Z",
     "iopub.status.busy": "2020-10-26T05:21:40.474489Z",
     "iopub.status.idle": "2020-10-26T05:21:40.805805Z",
     "shell.execute_reply": "2020-10-26T05:21:40.805380Z"
    },
    "outputId": "07e9725c-c350-4262-f20c-4caac269c284"
   }
  },
  {
   "cell_type": "markdown",
   "source": [
    "## Think!\n",
    "- How does the OU type input change neuron responsiveness? \n",
    "- What do you think will happen to the spike pattern and rate if you increased or decreased the time constant of the OU process?"
   ],
   "metadata": {
    "colab_type": "text"
   }
  },
  {
   "cell_type": "code",
   "execution_count": 22,
   "source": [
    "# to_remove explanation\n",
    "\n",
    "\"\"\"\n",
    "Discussion:\n",
    "\n",
    "In a limiting case, when the time constant of the OU process is very long and the\n",
    "input current is almost flat, we expect the firing rate to decrease and neuron\n",
    "will spike more regularly. So as the OU process time constant increases, we expect\n",
    "firing rate and CV_ISI to decrease, if all other parameters are kept constant. We\n",
    "can also relate the OU process time constant to the membrane time constant as the\n",
    "neuron membrane does the same operation. This way we can link to the very first\n",
    "interactive demo.\n",
    "\"\"\";"
   ],
   "outputs": [],
   "metadata": {
    "colab": {},
    "colab_type": "code",
    "execution": {
     "iopub.execute_input": "2020-10-26T05:21:40.809715Z",
     "iopub.status.busy": "2020-10-26T05:21:40.809172Z",
     "iopub.status.idle": "2020-10-26T05:21:40.811433Z",
     "shell.execute_reply": "2020-10-26T05:21:40.811814Z"
    }
   }
  }
 ],
 "metadata": {
  "colab": {
   "collapsed_sections": [],
   "include_colab_link": true,
   "name": "W2_Tutorial1",
   "provenance": [],
   "toc_visible": true
  },
  "kernel": {
   "display_name": "Python 3",
   "language": "python",
   "name": "python3"
  },
  "kernelspec": {
   "name": "python3",
   "display_name": "Python 3.7.8 64-bit ('base': conda)"
  },
  "language_info": {
   "codemirror_mode": {
    "name": "ipython",
    "version": 3
   },
   "file_extension": ".py",
   "mimetype": "text/x-python",
   "name": "python",
   "nbconvert_exporter": "python",
   "pygments_lexer": "ipython3",
   "version": "3.7.8"
  },
  "interpreter": {
   "hash": "63d742608f992112235285d8014d3ad9bd22d914fb5c109d9df6e126fac219ce"
  }
 },
 "nbformat": 4,
 "nbformat_minor": 1
}